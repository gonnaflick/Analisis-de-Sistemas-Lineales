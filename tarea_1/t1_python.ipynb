{
 "cells": [
  {
   "cell_type": "markdown",
   "id": "3efa2d00",
   "metadata": {},
   "source": [
    "SISTEMAS DE PRIMER ORDEN"
   ]
  },
  {
   "cell_type": "markdown",
   "id": "58a880aa",
   "metadata": {},
   "source": [
    "Analisis usando H(s) de:\n",
    "  H(s) = 1/(tao*s + 1)"
   ]
  },
  {
   "cell_type": "code",
   "execution_count": null,
   "id": "f6339f9f",
   "metadata": {},
   "outputs": [],
   "source": [
    "%pip install control"
   ]
  },
  {
   "cell_type": "code",
   "execution_count": null,
   "id": "b033bd1a",
   "metadata": {},
   "outputs": [],
   "source": [
    "import math\n",
    "import matplotlib.pyplot as plt\n",
    "import scipy.signal as signal\n",
    "import numpy as np\n",
    "import control\n",
    "from math import e\n",
    "from pprint import pprint"
   ]
  },
  {
   "cell_type": "code",
   "execution_count": null,
   "id": "b942726c",
   "metadata": {},
   "outputs": [],
   "source": [
    "# Valor de la resistencia\n",
    "r = 1000;\n",
    "# Valor del capacitor\n",
    "c = 47*pow(10,-6);\n",
    "# Valor de la constante de tiempo del sistema\n",
    "tao = r*c;"
   ]
  },
  {
   "cell_type": "code",
   "execution_count": null,
   "id": "05430f7b",
   "metadata": {},
   "outputs": [],
   "source": [
    "# Tiempo en alcanzar el valor final\n",
    "tmax = 6*tao;\n",
    "# Declaramos un vector de tiempo\n",
    "t = np.arange(0,tmax,0.01)\n",
    "# Evaluamos la funcion y(t)\n",
    "yt = pow(e, -t/tao)\n",
    "# Se muestran los datos\n",
    "print(\"Vector de tiempo\")\n",
    "pprint(t)\n",
    "print(\"\\nEvaluacion de funcion y(t)\")\n",
    "pprint(yt)"
   ]
  },
  {
   "cell_type": "code",
   "execution_count": null,
   "id": "5f26aafa",
   "metadata": {},
   "outputs": [],
   "source": [
    "# Grafica de la funcion y(t)\n",
    "plt.plot(t,yt)\n",
    "plt.xlabel('Tiempo (seg)')\n",
    "plt.title(\"Respuesta al escalon unitario\")\n",
    "plt.show()"
   ]
  },
  {
   "cell_type": "markdown",
   "id": "52d9a8c9",
   "metadata": {},
   "source": [
    "SEGUNDO METODO"
   ]
  },
  {
   "cell_type": "code",
   "execution_count": null,
   "id": "e2886501",
   "metadata": {},
   "outputs": [],
   "source": [
    "# Declaramos arreglo con coeficientes del numerador de H(s)\n",
    "num = np.array([tao, 0]);\n",
    "# Declaramos arreglo con coeficientes del denominador de H(s)\n",
    "den = np.array([tao, 1]);\n",
    "# Declaramos funcion de transferencia\n",
    "Hs = control.tf(num,den);\n",
    "H = signal.TransferFunction(num, den)\n",
    "# Se muestra la ecuacion H(s) y sus arreglos\n",
    "print(f'H(s) = {Hs}')\n",
    "print(H)\n",
    "# Obtenemos la respuesta al escalon unitario\n",
    "t,yt = signal.step(H)"
   ]
  },
  {
   "cell_type": "code",
   "execution_count": null,
   "id": "6d538b96",
   "metadata": {},
   "outputs": [],
   "source": [
    "# Grafica de la funcion H(s)\n",
    "plt.plot(t,yt)\n",
    "plt.xlabel('Tiempo (seg)')\n",
    "plt.title(\"Respuesta al escalon unitario\")\n",
    "plt.show()"
   ]
  }
 ],
 "metadata": {
  "kernelspec": {
   "display_name": "Python 3.10.4 64-bit",
   "language": "python",
   "name": "python3"
  },
  "language_info": {
   "codemirror_mode": {
    "name": "ipython",
    "version": 3
   },
   "file_extension": ".py",
   "mimetype": "text/x-python",
   "name": "python",
   "nbconvert_exporter": "python",
   "pygments_lexer": "ipython3",
   "version": "3.10.6"
  },
  "vscode": {
   "interpreter": {
    "hash": "916dbcbb3f70747c44a77c7bcd40155683ae19c65e1c03b4aa3499c5328201f1"
   }
  }
 },
 "nbformat": 4,
 "nbformat_minor": 5
}
